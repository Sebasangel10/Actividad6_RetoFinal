{
 "cells": [
  {
   "cell_type": "code",
   "execution_count": 2,
   "metadata": {},
   "outputs": [],
   "source": [
    "#importamos librerias requeridas\n",
    "import pandas as pd\n",
    "import numpy as np\n",
    "import matplotlib.pyplot as plt\n",
    "import seaborn as sns"
   ]
  },
  {
   "cell_type": "code",
   "execution_count": null,
   "metadata": {},
   "outputs": [],
   "source": [
    "df = pd.read_csv('DF_Mexico.csv')\n",
    "df"
   ]
  },
  {
   "cell_type": "code",
   "execution_count": 6,
   "metadata": {},
   "outputs": [],
   "source": [
    "pd.set_option('display.max_columns', None)\n",
    "pd.set_option('display.max_rows', None)"
   ]
  },
  {
   "cell_type": "code",
   "execution_count": 7,
   "metadata": {},
   "outputs": [
    {
     "data": {
      "text/plain": [
       "id                                                  0\n",
       "listing_url                                         0\n",
       "scrape_id                                           0\n",
       "last_scraped                                        0\n",
       "source                                              0\n",
       "name                                                1\n",
       "description                                       928\n",
       "neighborhood_overview                            9079\n",
       "picture_url                                         0\n",
       "host_id                                             0\n",
       "host_url                                            0\n",
       "host_name                                           0\n",
       "host_since                                          0\n",
       "host_location                                    5172\n",
       "host_about                                      10664\n",
       "host_response_time                               3091\n",
       "host_response_rate                               3091\n",
       "host_acceptance_rate                             2043\n",
       "host_is_superhost                                   5\n",
       "host_thumbnail_url                                  0\n",
       "host_picture_url                                    0\n",
       "host_neighbourhood                              12401\n",
       "host_listings_count                                 0\n",
       "host_total_listings_count                           0\n",
       "host_verifications                                  0\n",
       "host_has_profile_pic                                0\n",
       "host_identity_verified                              0\n",
       "neighbourhood                                    9079\n",
       "neighbourhood_cleansed                              0\n",
       "neighbourhood_group_cleansed                    24224\n",
       "latitude                                            0\n",
       "longitude                                           0\n",
       "property_type                                       0\n",
       "room_type                                           0\n",
       "accommodates                                        0\n",
       "bathrooms                                       24224\n",
       "bathrooms_text                                     30\n",
       "bedrooms                                          555\n",
       "beds                                              271\n",
       "amenities                                           0\n",
       "price                                               0\n",
       "minimum_nights                                      0\n",
       "maximum_nights                                      0\n",
       "minimum_minimum_nights                              1\n",
       "maximum_minimum_nights                              1\n",
       "minimum_maximum_nights                              1\n",
       "maximum_maximum_nights                              1\n",
       "minimum_nights_avg_ntm                              1\n",
       "maximum_nights_avg_ntm                              1\n",
       "calendar_updated                                24224\n",
       "has_availability                                    0\n",
       "availability_30                                     0\n",
       "availability_60                                     0\n",
       "availability_90                                     0\n",
       "availability_365                                    0\n",
       "calendar_last_scraped                               0\n",
       "number_of_reviews                                   0\n",
       "number_of_reviews_ltm                               0\n",
       "number_of_reviews_l30d                              0\n",
       "first_review                                     3596\n",
       "last_review                                      3596\n",
       "review_scores_rating                             3596\n",
       "review_scores_accuracy                           3652\n",
       "review_scores_cleanliness                        3651\n",
       "review_scores_checkin                            3652\n",
       "review_scores_communication                      3652\n",
       "review_scores_location                           3653\n",
       "review_scores_value                              3653\n",
       "license                                         24224\n",
       "instant_bookable                                    0\n",
       "calculated_host_listings_count                      0\n",
       "calculated_host_listings_count_entire_homes         0\n",
       "calculated_host_listings_count_private_rooms        0\n",
       "calculated_host_listings_count_shared_rooms         0\n",
       "reviews_per_month                                3596\n",
       "dtype: int64"
      ]
     },
     "execution_count": 7,
     "metadata": {},
     "output_type": "execute_result"
    }
   ],
   "source": [
    "#Identificar valores nulos por columna\n",
    "valores_nulos=df.isnull().sum()\n",
    "valores_nulos"
   ]
  },
  {
   "cell_type": "code",
   "execution_count": null,
   "metadata": {},
   "outputs": [],
   "source": []
  }
 ],
 "metadata": {
  "kernelspec": {
   "display_name": "Python 3",
   "language": "python",
   "name": "python3"
  },
  "language_info": {
   "codemirror_mode": {
    "name": "ipython",
    "version": 3
   },
   "file_extension": ".py",
   "mimetype": "text/x-python",
   "name": "python",
   "nbconvert_exporter": "python",
   "pygments_lexer": "ipython3",
   "version": "3.11.5"
  },
  "orig_nbformat": 4
 },
 "nbformat": 4,
 "nbformat_minor": 2
}
